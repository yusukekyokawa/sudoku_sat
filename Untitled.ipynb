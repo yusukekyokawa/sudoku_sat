{
 "cells": [
  {
   "cell_type": "code",
   "execution_count": 1,
   "metadata": {},
   "outputs": [],
   "source": [
    "import itertools"
   ]
  },
  {
   "cell_type": "code",
   "execution_count": 2,
   "metadata": {},
   "outputs": [],
   "source": [
    "a = [1, 2, 3, 4]# a1, a2, a3, a4\n",
    "b = [5, 6, 7, 8]# b1, b2, b3, b4 \n",
    "c = [9, 10, 11, 12]# c1, c2, c3, c4\n",
    "d = [13, 14, 15, 16]\n",
    "e = [17, 18, 19, 20]\n",
    "f = [21, 22, 23, 24]\n",
    "g = [25, 26, 27, 28]\n",
    "h = [29, 30, 31, 32]\n",
    "i = [33, 34, 35, 36]\n",
    "j = [37, 38, 39, 40]\n",
    "k = [41, 42, 43, 44]\n",
    "l = [45, 46, 47, 48]\n",
    "m = [49, 50, 51, 52]\n",
    "n = [53, 54, 55, 56]\n",
    "o = [57, 58, 59, 60]\n",
    "p = [61, 62, 63, 64] "
   ]
  },
  {
   "cell_type": "code",
   "execution_count": 9,
   "metadata": {},
   "outputs": [],
   "source": [
    "box = [a, b, c, d, e, f, g, h, i, j, k, l, m, n, o, p]"
   ]
  },
  {
   "cell_type": "markdown",
   "metadata": {},
   "source": [
    "## ルール2\n",
    "各行に同じ数字が2回以上現れない"
   ]
  },
  {
   "cell_type": "code",
   "execution_count": 34,
   "metadata": {},
   "outputs": [],
   "source": [
    "rule2 = []\n",
    "for i in range(1, 5):\n",
    "    # a~dまで\n",
    "    list_ = list(range(i, i + 13, 4))\n",
    "    new_list = []\n",
    "    for l in itertools.combinations(list_, 2):\n",
    "        new_list.append([-1 * l[0], -1 * l[1]])\n",
    "    rule2.append(new_list)"
   ]
  },
  {
   "cell_type": "code",
   "execution_count": 38,
   "metadata": {},
   "outputs": [],
   "source": [
    "rule2_e2h = []\n",
    "for i in range(17, 21):\n",
    "    # e~hまで\n",
    "    e2h = list(range(i, i + 13, 4))\n",
    "    new_list2 = []\n",
    "    for l  in itertools.combinations(e2h, 2):\n",
    "        new_list2.append([-1 * l[0], -1 * l[1]])\n",
    "    rule2_e2h.append(new_list2)"
   ]
  },
  {
   "cell_type": "code",
   "execution_count": 41,
   "metadata": {},
   "outputs": [],
   "source": [
    "rule2_i2l = []\n",
    "for i in range(33, 37):\n",
    "    # i~lまで\n",
    "    i2l = list(range(i, i + 13, 4))\n",
    "    new_list3 = []\n",
    "    for l in itertools.combinations(i2l, 2):\n",
    "        new_list3.append([-1 * l[0], -1 * l[1]])\n",
    "    rule2_i2l.append(new_list3)\n"
   ]
  },
  {
   "cell_type": "code",
   "execution_count": 42,
   "metadata": {},
   "outputs": [],
   "source": [
    "rule2_m2p = []\n",
    "for i in range(49, 53):\n",
    "    # m ~pまで\n",
    "    m2p = list(range(i, i + 13, 4))\n",
    "    new_list4 = []\n",
    "    for l in itertools.combinations(m2p, 2):\n",
    "        new_list4.append([-1 * l[0], -1 * l[1]])\n",
    "    rule2_m2p.append(new_list4)\n",
    "    "
   ]
  },
  {
   "cell_type": "markdown",
   "metadata": {},
   "source": [
    "## ルール3\n",
    "各列に同じ数字が2回以上現れない"
   ]
  },
  {
   "cell_type": "code",
   "execution_count": 46,
   "metadata": {},
   "outputs": [],
   "source": [
    "rule3_a2m = []\n",
    "for i in range(1, 5):\n",
    "    # a ~ mまで\n",
    "    a2m = list(range(i, i + 50, 16))\n",
    "    tmp = []\n",
    "    for l in itertools.combinations(a2m, 2):\n",
    "        tmp.append([-1 * l[0], -1 * l[1]])\n",
    "    rule3_a2m.append(tmp)"
   ]
  },
  {
   "cell_type": "code",
   "execution_count": 47,
   "metadata": {},
   "outputs": [],
   "source": [
    "rule3_b2n = []\n",
    "for i in range(5, 9):\n",
    "    b2n = list(range(i, i + 50, 16))\n",
    "    tmp = []\n",
    "    for l in itertools.combinations(b2n, 2):\n",
    "        tmp.append([-1 * l[0], -1 * l[1]])\n",
    "    rule3_b2n.append(tmp)"
   ]
  },
  {
   "cell_type": "code",
   "execution_count": 48,
   "metadata": {},
   "outputs": [],
   "source": [
    "rule3_c2o = []\n",
    "for i in range(9, 13):\n",
    "    # c~omade\n",
    "    c2o = list(range(i, i + 50, 16))\n",
    "    tmp = []\n",
    "    for l in itertools.combinations(c2o, 2):\n",
    "        tmp.append([-1 * l[0], -1 * l[1]])\n",
    "    rule3_c2o.append(tmp)"
   ]
  },
  {
   "cell_type": "code",
   "execution_count": 50,
   "metadata": {},
   "outputs": [],
   "source": [
    "rule3_d2p = []\n",
    "for i in range(13, 17):\n",
    "    # d~p\n",
    "    d2p = list(range(i, i + 50, 16))\n",
    "    tmp = []\n",
    "    for l in itertools.combinations(d2p, 2):\n",
    "        tmp.append([-1 * l[0], -1 * l[1]])\n",
    "    rule3_d2p.append(tmp)"
   ]
  },
  {
   "cell_type": "markdown",
   "metadata": {},
   "source": [
    "## ルール4\n",
    "各ブロックに同じ数字が現れない"
   ]
  },
  {
   "cell_type": "code",
   "execution_count": null,
   "metadata": {},
   "outputs": [],
   "source": []
  }
 ],
 "metadata": {
  "kernelspec": {
   "display_name": "Python 3",
   "language": "python",
   "name": "python3"
  },
  "language_info": {
   "codemirror_mode": {
    "name": "ipython",
    "version": 3
   },
   "file_extension": ".py",
   "mimetype": "text/x-python",
   "name": "python",
   "nbconvert_exporter": "python",
   "pygments_lexer": "ipython3",
   "version": "3.7.3"
  }
 },
 "nbformat": 4,
 "nbformat_minor": 2
}
